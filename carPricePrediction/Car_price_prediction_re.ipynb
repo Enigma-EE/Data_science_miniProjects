{
  "cells": [
    {
      "cell_type": "markdown",
      "metadata": {
        "id": "EVadO-bp7KqX"
      },
      "source": [
        "# **Car Price Prediction**"
      ]
    },
    {
      "cell_type": "markdown",
      "metadata": {
        "id": "Wedyx4m77QVo"
      },
      "source": [
        "\n",
        "## Importing Libraries\n"
      ]
    },
    {
      "cell_type": "code",
      "execution_count": 1,
      "metadata": {
        "id": "k0I7fCjf7IIK"
      },
      "outputs": [],
      "source": [
        "import pandas as pd\n",
        "from sklearn.model_selection import train_test_split, GridSearchCV\n",
        "from sklearn.preprocessing import LabelEncoder\n",
        "from sklearn.ensemble import RandomForestRegressor\n",
        "from sklearn.metrics import mean_squared_error, mean_absolute_error, r2_score\n",
        "import pickle"
      ]
    },
    {
      "cell_type": "code",
      "execution_count": 2,
      "metadata": {},
      "outputs": [],
      "source": [
        "# Function to load data from a CSV file\n",
        "def load_data(file_path):\n",
        "    # Read the dataset from the given file path\n",
        "    dataset = pd.read_csv(file_path)\n",
        "    return dataset\n",
        "\n",
        "# Function for preprocessing the dataset\n",
        "def preprocess_data(dataset):\n",
        "    # Selecting relevant features and target variable (indices should be adjusted based on dataset)\n",
        "    X = dataset.iloc[:, [1, 3, 4, 6]].values\n",
        "    y = dataset.iloc[:, 2].values\n",
        "\n",
        "    # Initializing label encoders for categorical features\n",
        "    lb = LabelEncoder()\n",
        "    lb1 = LabelEncoder()\n",
        "\n",
        "    # Transforming categorical features into numerical\n",
        "    X[:, 2] = lb.fit_transform(X[:, 2])\n",
        "    X[:, 3] = lb1.fit_transform(X[:, 3])\n",
        "\n",
        "    return X, y, lb, lb1\n",
        "\n",
        "# Function to split dataset into training and testing sets\n",
        "def split_data(X, y):\n",
        "    # Splitting the dataset into training (95%) and testing (5%) sets\n",
        "    return train_test_split(X, y, test_size=0.05, random_state=0)\n",
        "\n",
        "# Function to train the RandomForestRegressor model\n",
        "def train_model(X_train, y_train):\n",
        "    # Initialize the RandomForestRegressor with a fixed random state for reproducibility\n",
        "    model = RandomForestRegressor(random_state=0)\n",
        "\n",
        "    # Hyperparameter grid for tuning the model\n",
        "    param_grid = {\n",
        "        'n_estimators': [100, 200, 300], \n",
        "        'max_depth': [None, 10, 20]\n",
        "    }\n",
        "\n",
        "    # Grid search for hyperparameter tuning with 5-fold cross-validation\n",
        "    grid_search = GridSearchCV(model, param_grid, cv=5)\n",
        "    grid_search.fit(X_train, y_train)\n",
        "\n",
        "    # Returning the best model found by grid search\n",
        "    return grid_search.best_estimator_\n",
        "\n",
        "# Function to evaluate the model using different metrics\n",
        "def evaluate_model(model, X_test, y_test):\n",
        "    # Making predictions on the test set\n",
        "    y_pred = model.predict(X_test)\n",
        "\n",
        "    # Calculating evaluation metrics\n",
        "    mse = mean_squared_error(y_test, y_pred)\n",
        "    mae = mean_absolute_error(y_test, y_pred)\n",
        "    r2 = r2_score(y_test, y_pred)\n",
        "\n",
        "    return mse, mae, r2\n",
        "\n",
        "# Function to serialize (save) the model to a file\n",
        "def serialize_model(model, filename):\n",
        "    with open(filename, 'wb') as file:\n",
        "        pickle.dump(model, file)\n",
        "\n",
        "# Function to make predictions on new, unseen data\n",
        "def predict_new_data(model, new_data, lb, lb1):\n",
        "    try:\n",
        "        # Transforming the categorical features using the previously fitted label encoders\n",
        "        new_data[2] = lb.transform([new_data[2]])[0]\n",
        "        new_data[3] = lb1.transform([new_data[3]])[0]\n",
        "\n",
        "        # Making a prediction using the trained model\n",
        "        prediction = model.predict([new_data])\n",
        "        return prediction\n",
        "    except Exception as e:\n",
        "        # In case of any errors, return the error message\n",
        "        return str(e)\n",
        "\n"
      ]
    },
    {
      "cell_type": "code",
      "execution_count": 3,
      "metadata": {},
      "outputs": [
        {
          "name": "stdout",
          "output_type": "stream",
          "text": [
            "MSE: 56365266995.58914, MAE: 144893.3964224964, R² Score: 86.10881587234663%\n"
          ]
        }
      ],
      "source": [
        "# Main workflow\n",
        "dataset = load_data('car_data.csv')\n",
        "X, y, lb, lb1 = preprocess_data(dataset)\n",
        "X_train, X_test, y_train, y_test = split_data(X, y)\n",
        "\n",
        "model = train_model(X_train, y_train)\n",
        "mse, mae, r2 = evaluate_model(model, X_test, y_test)\n",
        "print(f'MSE: {mse}, MAE: {mae}, R² Score: {r2*100}%')"
      ]
    },
    {
      "cell_type": "code",
      "execution_count": 4,
      "metadata": {},
      "outputs": [],
      "source": [
        "# Serialize the model and label encoders for future use\n",
        "serialize_model(model, 'regressor.pkl')\n",
        "serialize_model(lb, 'lb.pkl')\n",
        "serialize_model(lb1, 'lb1.pkl')"
      ]
    },
    {
      "cell_type": "code",
      "execution_count": 5,
      "metadata": {},
      "outputs": [
        {
          "name": "stdout",
          "output_type": "stream",
          "text": [
            "Prediction for new data: [587559.61072822]\n"
          ]
        }
      ],
      "source": [
        "# Example: Predicting for new data\n",
        "new_data = [2017, 7000, \"Petrol\", \"Manual\"]\n",
        "prediction = predict_new_data(model, new_data, lb, lb1)\n",
        "print(\"Prediction for new data:\", prediction)"
      ]
    },
    {
      "cell_type": "code",
      "execution_count": null,
      "metadata": {},
      "outputs": [],
      "source": []
    },
    {
      "cell_type": "code",
      "execution_count": null,
      "metadata": {
        "id": "7ioJGdHB-YjL"
      },
      "outputs": [],
      "source": []
    }
  ],
  "metadata": {
    "accelerator": "GPU",
    "colab": {
      "name": "Car_price_prediction.ipynb",
      "provenance": []
    },
    "kernelspec": {
      "display_name": "Python 3",
      "name": "python3"
    },
    "language_info": {
      "codemirror_mode": {
        "name": "ipython",
        "version": 3
      },
      "file_extension": ".py",
      "mimetype": "text/x-python",
      "name": "python",
      "nbconvert_exporter": "python",
      "pygments_lexer": "ipython3",
      "version": "3.8.5"
    }
  },
  "nbformat": 4,
  "nbformat_minor": 0
}
