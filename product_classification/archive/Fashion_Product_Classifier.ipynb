{
  "cells": [
    {
      "cell_type": "markdown",
      "metadata": {
        "id": "qX4VFhx8xRKI"
      },
      "source": [
        "# Fashion Product Classifier"
      ]
    },
    {
      "cell_type": "markdown",
      "metadata": {
        "id": "zNn_4CV3V3UQ"
      },
      "source": [
        "## Image name with Extension"
      ]
    },
    {
      "cell_type": "code",
      "execution_count": 1,
      "metadata": {},
      "outputs": [],
      "source": [
        "import pandas as pd"
      ]
    },
    {
      "cell_type": "code",
      "execution_count": 2,
      "metadata": {
        "colab": {
          "base_uri": "https://localhost:8080/"
        },
        "id": "1O-CMU5jTybq",
        "outputId": "90789cf7-2209-4c94-dd26-ad7c7e6d3f75"
      },
      "outputs": [],
      "source": [
        "# Read CSV file into DataFrame, skipping lines with errors\n",
        "df = pd.read_csv(\"styles.csv\",on_bad_lines='skip')\n"
      ]
    },
    {
      "cell_type": "code",
      "execution_count": 3,
      "metadata": {
        "id": "7ZeZjRHYWCko"
      },
      "outputs": [],
      "source": [
        "\n",
        "# Add a new column 'image' to the dataframe, consisting of the 'id' column values converted to string and appended with \".jpg\"\n",
        "df['image'] = df.apply(lambda row: str(row['id']) + \".jpg\", axis=1)\n"
      ]
    },
    {
      "cell_type": "code",
      "execution_count": 4,
      "metadata": {
        "colab": {
          "base_uri": "https://localhost:8080/",
          "height": 380
        },
        "id": "_1i6PhbEkNMO",
        "outputId": "131ef7f8-d9ca-45d1-8759-468ec0698300"
      },
      "outputs": [
        {
          "data": {
            "text/html": [
              "<div>\n",
              "<style scoped>\n",
              "    .dataframe tbody tr th:only-of-type {\n",
              "        vertical-align: middle;\n",
              "    }\n",
              "\n",
              "    .dataframe tbody tr th {\n",
              "        vertical-align: top;\n",
              "    }\n",
              "\n",
              "    .dataframe thead th {\n",
              "        text-align: right;\n",
              "    }\n",
              "</style>\n",
              "<table border=\"1\" class=\"dataframe\">\n",
              "  <thead>\n",
              "    <tr style=\"text-align: right;\">\n",
              "      <th></th>\n",
              "      <th>id</th>\n",
              "      <th>gender</th>\n",
              "      <th>masterCategory</th>\n",
              "      <th>subCategory</th>\n",
              "      <th>articleType</th>\n",
              "      <th>baseColour</th>\n",
              "      <th>season</th>\n",
              "      <th>year</th>\n",
              "      <th>usage</th>\n",
              "      <th>productDisplayName</th>\n",
              "      <th>image</th>\n",
              "    </tr>\n",
              "  </thead>\n",
              "  <tbody>\n",
              "    <tr>\n",
              "      <th>0</th>\n",
              "      <td>15970</td>\n",
              "      <td>Men</td>\n",
              "      <td>Apparel</td>\n",
              "      <td>Topwear</td>\n",
              "      <td>Shirts</td>\n",
              "      <td>Navy Blue</td>\n",
              "      <td>Fall</td>\n",
              "      <td>2011.0</td>\n",
              "      <td>Casual</td>\n",
              "      <td>Turtle Check Men Navy Blue Shirt</td>\n",
              "      <td>15970.jpg</td>\n",
              "    </tr>\n",
              "    <tr>\n",
              "      <th>1</th>\n",
              "      <td>39386</td>\n",
              "      <td>Men</td>\n",
              "      <td>Apparel</td>\n",
              "      <td>Bottomwear</td>\n",
              "      <td>Jeans</td>\n",
              "      <td>Blue</td>\n",
              "      <td>Summer</td>\n",
              "      <td>2012.0</td>\n",
              "      <td>Casual</td>\n",
              "      <td>Peter England Men Party Blue Jeans</td>\n",
              "      <td>39386.jpg</td>\n",
              "    </tr>\n",
              "    <tr>\n",
              "      <th>2</th>\n",
              "      <td>59263</td>\n",
              "      <td>Women</td>\n",
              "      <td>Accessories</td>\n",
              "      <td>Watches</td>\n",
              "      <td>Watches</td>\n",
              "      <td>Silver</td>\n",
              "      <td>Winter</td>\n",
              "      <td>2016.0</td>\n",
              "      <td>Casual</td>\n",
              "      <td>Titan Women Silver Watch</td>\n",
              "      <td>59263.jpg</td>\n",
              "    </tr>\n",
              "    <tr>\n",
              "      <th>3</th>\n",
              "      <td>21379</td>\n",
              "      <td>Men</td>\n",
              "      <td>Apparel</td>\n",
              "      <td>Bottomwear</td>\n",
              "      <td>Track Pants</td>\n",
              "      <td>Black</td>\n",
              "      <td>Fall</td>\n",
              "      <td>2011.0</td>\n",
              "      <td>Casual</td>\n",
              "      <td>Manchester United Men Solid Black Track Pants</td>\n",
              "      <td>21379.jpg</td>\n",
              "    </tr>\n",
              "    <tr>\n",
              "      <th>4</th>\n",
              "      <td>53759</td>\n",
              "      <td>Men</td>\n",
              "      <td>Apparel</td>\n",
              "      <td>Topwear</td>\n",
              "      <td>Tshirts</td>\n",
              "      <td>Grey</td>\n",
              "      <td>Summer</td>\n",
              "      <td>2012.0</td>\n",
              "      <td>Casual</td>\n",
              "      <td>Puma Men Grey T-shirt</td>\n",
              "      <td>53759.jpg</td>\n",
              "    </tr>\n",
              "    <tr>\n",
              "      <th>5</th>\n",
              "      <td>1855</td>\n",
              "      <td>Men</td>\n",
              "      <td>Apparel</td>\n",
              "      <td>Topwear</td>\n",
              "      <td>Tshirts</td>\n",
              "      <td>Grey</td>\n",
              "      <td>Summer</td>\n",
              "      <td>2011.0</td>\n",
              "      <td>Casual</td>\n",
              "      <td>Inkfruit Mens Chain Reaction T-shirt</td>\n",
              "      <td>1855.jpg</td>\n",
              "    </tr>\n",
              "    <tr>\n",
              "      <th>6</th>\n",
              "      <td>30805</td>\n",
              "      <td>Men</td>\n",
              "      <td>Apparel</td>\n",
              "      <td>Topwear</td>\n",
              "      <td>Shirts</td>\n",
              "      <td>Green</td>\n",
              "      <td>Summer</td>\n",
              "      <td>2012.0</td>\n",
              "      <td>Ethnic</td>\n",
              "      <td>Fabindia Men Striped Green Shirt</td>\n",
              "      <td>30805.jpg</td>\n",
              "    </tr>\n",
              "    <tr>\n",
              "      <th>7</th>\n",
              "      <td>26960</td>\n",
              "      <td>Women</td>\n",
              "      <td>Apparel</td>\n",
              "      <td>Topwear</td>\n",
              "      <td>Shirts</td>\n",
              "      <td>Purple</td>\n",
              "      <td>Summer</td>\n",
              "      <td>2012.0</td>\n",
              "      <td>Casual</td>\n",
              "      <td>Jealous 21 Women Purple Shirt</td>\n",
              "      <td>26960.jpg</td>\n",
              "    </tr>\n",
              "    <tr>\n",
              "      <th>8</th>\n",
              "      <td>29114</td>\n",
              "      <td>Men</td>\n",
              "      <td>Accessories</td>\n",
              "      <td>Socks</td>\n",
              "      <td>Socks</td>\n",
              "      <td>Navy Blue</td>\n",
              "      <td>Summer</td>\n",
              "      <td>2012.0</td>\n",
              "      <td>Casual</td>\n",
              "      <td>Puma Men Pack of 3 Socks</td>\n",
              "      <td>29114.jpg</td>\n",
              "    </tr>\n",
              "    <tr>\n",
              "      <th>9</th>\n",
              "      <td>30039</td>\n",
              "      <td>Men</td>\n",
              "      <td>Accessories</td>\n",
              "      <td>Watches</td>\n",
              "      <td>Watches</td>\n",
              "      <td>Black</td>\n",
              "      <td>Winter</td>\n",
              "      <td>2016.0</td>\n",
              "      <td>Casual</td>\n",
              "      <td>Skagen Men Black Watch</td>\n",
              "      <td>30039.jpg</td>\n",
              "    </tr>\n",
              "  </tbody>\n",
              "</table>\n",
              "</div>"
            ],
            "text/plain": [
              "      id gender masterCategory subCategory  articleType baseColour  season  \\\n",
              "0  15970    Men        Apparel     Topwear       Shirts  Navy Blue    Fall   \n",
              "1  39386    Men        Apparel  Bottomwear        Jeans       Blue  Summer   \n",
              "2  59263  Women    Accessories     Watches      Watches     Silver  Winter   \n",
              "3  21379    Men        Apparel  Bottomwear  Track Pants      Black    Fall   \n",
              "4  53759    Men        Apparel     Topwear      Tshirts       Grey  Summer   \n",
              "5   1855    Men        Apparel     Topwear      Tshirts       Grey  Summer   \n",
              "6  30805    Men        Apparel     Topwear       Shirts      Green  Summer   \n",
              "7  26960  Women        Apparel     Topwear       Shirts     Purple  Summer   \n",
              "8  29114    Men    Accessories       Socks        Socks  Navy Blue  Summer   \n",
              "9  30039    Men    Accessories     Watches      Watches      Black  Winter   \n",
              "\n",
              "     year   usage                             productDisplayName      image  \n",
              "0  2011.0  Casual               Turtle Check Men Navy Blue Shirt  15970.jpg  \n",
              "1  2012.0  Casual             Peter England Men Party Blue Jeans  39386.jpg  \n",
              "2  2016.0  Casual                       Titan Women Silver Watch  59263.jpg  \n",
              "3  2011.0  Casual  Manchester United Men Solid Black Track Pants  21379.jpg  \n",
              "4  2012.0  Casual                          Puma Men Grey T-shirt  53759.jpg  \n",
              "5  2011.0  Casual           Inkfruit Mens Chain Reaction T-shirt   1855.jpg  \n",
              "6  2012.0  Ethnic               Fabindia Men Striped Green Shirt  30805.jpg  \n",
              "7  2012.0  Casual                  Jealous 21 Women Purple Shirt  26960.jpg  \n",
              "8  2012.0  Casual                       Puma Men Pack of 3 Socks  29114.jpg  \n",
              "9  2016.0  Casual                         Skagen Men Black Watch  30039.jpg  "
            ]
          },
          "execution_count": 4,
          "metadata": {},
          "output_type": "execute_result"
        }
      ],
      "source": [
        "df.head(10)"
      ]
    },
    {
      "cell_type": "code",
      "execution_count": 5,
      "metadata": {
        "id": "3G88Bf6eWE25"
      },
      "outputs": [],
      "source": [
        "# Randomly shuffle the DataFrame rows\n",
        "df = df.sample(frac=1).reset_index(drop=True)"
      ]
    },
    {
      "cell_type": "code",
      "execution_count": 6,
      "metadata": {
        "colab": {
          "base_uri": "https://localhost:8080/",
          "height": 363
        },
        "id": "3Y7VtoWxkO2e",
        "outputId": "abac0c9b-1404-4ae3-e801-fed0944e2897"
      },
      "outputs": [
        {
          "data": {
            "text/html": [
              "<div>\n",
              "<style scoped>\n",
              "    .dataframe tbody tr th:only-of-type {\n",
              "        vertical-align: middle;\n",
              "    }\n",
              "\n",
              "    .dataframe tbody tr th {\n",
              "        vertical-align: top;\n",
              "    }\n",
              "\n",
              "    .dataframe thead th {\n",
              "        text-align: right;\n",
              "    }\n",
              "</style>\n",
              "<table border=\"1\" class=\"dataframe\">\n",
              "  <thead>\n",
              "    <tr style=\"text-align: right;\">\n",
              "      <th></th>\n",
              "      <th>id</th>\n",
              "      <th>gender</th>\n",
              "      <th>masterCategory</th>\n",
              "      <th>subCategory</th>\n",
              "      <th>articleType</th>\n",
              "      <th>baseColour</th>\n",
              "      <th>season</th>\n",
              "      <th>year</th>\n",
              "      <th>usage</th>\n",
              "      <th>productDisplayName</th>\n",
              "      <th>image</th>\n",
              "    </tr>\n",
              "  </thead>\n",
              "  <tbody>\n",
              "    <tr>\n",
              "      <th>0</th>\n",
              "      <td>48753</td>\n",
              "      <td>Women</td>\n",
              "      <td>Accessories</td>\n",
              "      <td>Jewellery</td>\n",
              "      <td>Bangle</td>\n",
              "      <td>Silver</td>\n",
              "      <td>Summer</td>\n",
              "      <td>2013.0</td>\n",
              "      <td>Casual</td>\n",
              "      <td>Lucera Women Silver Bangle</td>\n",
              "      <td>48753.jpg</td>\n",
              "    </tr>\n",
              "    <tr>\n",
              "      <th>1</th>\n",
              "      <td>44249</td>\n",
              "      <td>Women</td>\n",
              "      <td>Accessories</td>\n",
              "      <td>Bags</td>\n",
              "      <td>Handbags</td>\n",
              "      <td>Red</td>\n",
              "      <td>Summer</td>\n",
              "      <td>2012.0</td>\n",
              "      <td>Casual</td>\n",
              "      <td>Hidekraft Women Red Handbag</td>\n",
              "      <td>44249.jpg</td>\n",
              "    </tr>\n",
              "    <tr>\n",
              "      <th>2</th>\n",
              "      <td>19398</td>\n",
              "      <td>Men</td>\n",
              "      <td>Apparel</td>\n",
              "      <td>Topwear</td>\n",
              "      <td>Tshirts</td>\n",
              "      <td>Blue</td>\n",
              "      <td>Summer</td>\n",
              "      <td>2011.0</td>\n",
              "      <td>Sports</td>\n",
              "      <td>ADIDAS Men Solid Blue Jersey</td>\n",
              "      <td>19398.jpg</td>\n",
              "    </tr>\n",
              "    <tr>\n",
              "      <th>3</th>\n",
              "      <td>20457</td>\n",
              "      <td>Women</td>\n",
              "      <td>Accessories</td>\n",
              "      <td>Wallets</td>\n",
              "      <td>Wallets</td>\n",
              "      <td>Black</td>\n",
              "      <td>Winter</td>\n",
              "      <td>2015.0</td>\n",
              "      <td>Casual</td>\n",
              "      <td>Baggit Women Dhano Taj Black Wallet</td>\n",
              "      <td>20457.jpg</td>\n",
              "    </tr>\n",
              "    <tr>\n",
              "      <th>4</th>\n",
              "      <td>55288</td>\n",
              "      <td>Women</td>\n",
              "      <td>Personal Care</td>\n",
              "      <td>Makeup</td>\n",
              "      <td>Highlighter and Blush</td>\n",
              "      <td>Skin</td>\n",
              "      <td>Spring</td>\n",
              "      <td>2017.0</td>\n",
              "      <td>Casual</td>\n",
              "      <td>Lakme Sun Kissed Face Sheer</td>\n",
              "      <td>55288.jpg</td>\n",
              "    </tr>\n",
              "    <tr>\n",
              "      <th>5</th>\n",
              "      <td>58673</td>\n",
              "      <td>Women</td>\n",
              "      <td>Apparel</td>\n",
              "      <td>Topwear</td>\n",
              "      <td>Kurtas</td>\n",
              "      <td>White</td>\n",
              "      <td>Summer</td>\n",
              "      <td>2012.0</td>\n",
              "      <td>Ethnic</td>\n",
              "      <td>ALayna Women Printed White Kurta</td>\n",
              "      <td>58673.jpg</td>\n",
              "    </tr>\n",
              "    <tr>\n",
              "      <th>6</th>\n",
              "      <td>9993</td>\n",
              "      <td>Women</td>\n",
              "      <td>Apparel</td>\n",
              "      <td>Bottomwear</td>\n",
              "      <td>Leggings</td>\n",
              "      <td>Beige</td>\n",
              "      <td>Fall</td>\n",
              "      <td>2011.0</td>\n",
              "      <td>Casual</td>\n",
              "      <td>Urban Yoga Women Anga Beige Leggings</td>\n",
              "      <td>9993.jpg</td>\n",
              "    </tr>\n",
              "    <tr>\n",
              "      <th>7</th>\n",
              "      <td>33358</td>\n",
              "      <td>Men</td>\n",
              "      <td>Footwear</td>\n",
              "      <td>Shoes</td>\n",
              "      <td>Formal Shoes</td>\n",
              "      <td>Brown</td>\n",
              "      <td>Summer</td>\n",
              "      <td>2012.0</td>\n",
              "      <td>Formal</td>\n",
              "      <td>Homme Men Brown Semi Formal Shoes</td>\n",
              "      <td>33358.jpg</td>\n",
              "    </tr>\n",
              "    <tr>\n",
              "      <th>8</th>\n",
              "      <td>50689</td>\n",
              "      <td>Men</td>\n",
              "      <td>Apparel</td>\n",
              "      <td>Innerwear</td>\n",
              "      <td>Trunk</td>\n",
              "      <td>Black</td>\n",
              "      <td>Summer</td>\n",
              "      <td>2016.0</td>\n",
              "      <td>Casual</td>\n",
              "      <td>Chromozome Men Black Trunks</td>\n",
              "      <td>50689.jpg</td>\n",
              "    </tr>\n",
              "    <tr>\n",
              "      <th>9</th>\n",
              "      <td>57832</td>\n",
              "      <td>Women</td>\n",
              "      <td>Apparel</td>\n",
              "      <td>Topwear</td>\n",
              "      <td>Tops</td>\n",
              "      <td>Pink</td>\n",
              "      <td>Summer</td>\n",
              "      <td>2012.0</td>\n",
              "      <td>Casual</td>\n",
              "      <td>United Colors of Benetton Women Pink Top</td>\n",
              "      <td>57832.jpg</td>\n",
              "    </tr>\n",
              "  </tbody>\n",
              "</table>\n",
              "</div>"
            ],
            "text/plain": [
              "      id gender masterCategory subCategory            articleType baseColour  \\\n",
              "0  48753  Women    Accessories   Jewellery                 Bangle     Silver   \n",
              "1  44249  Women    Accessories        Bags               Handbags        Red   \n",
              "2  19398    Men        Apparel     Topwear                Tshirts       Blue   \n",
              "3  20457  Women    Accessories     Wallets                Wallets      Black   \n",
              "4  55288  Women  Personal Care      Makeup  Highlighter and Blush       Skin   \n",
              "5  58673  Women        Apparel     Topwear                 Kurtas      White   \n",
              "6   9993  Women        Apparel  Bottomwear               Leggings      Beige   \n",
              "7  33358    Men       Footwear       Shoes           Formal Shoes      Brown   \n",
              "8  50689    Men        Apparel   Innerwear                  Trunk      Black   \n",
              "9  57832  Women        Apparel     Topwear                   Tops       Pink   \n",
              "\n",
              "   season    year   usage                        productDisplayName      image  \n",
              "0  Summer  2013.0  Casual                Lucera Women Silver Bangle  48753.jpg  \n",
              "1  Summer  2012.0  Casual               Hidekraft Women Red Handbag  44249.jpg  \n",
              "2  Summer  2011.0  Sports              ADIDAS Men Solid Blue Jersey  19398.jpg  \n",
              "3  Winter  2015.0  Casual       Baggit Women Dhano Taj Black Wallet  20457.jpg  \n",
              "4  Spring  2017.0  Casual               Lakme Sun Kissed Face Sheer  55288.jpg  \n",
              "5  Summer  2012.0  Ethnic          ALayna Women Printed White Kurta  58673.jpg  \n",
              "6    Fall  2011.0  Casual      Urban Yoga Women Anga Beige Leggings   9993.jpg  \n",
              "7  Summer  2012.0  Formal         Homme Men Brown Semi Formal Shoes  33358.jpg  \n",
              "8  Summer  2016.0  Casual               Chromozome Men Black Trunks  50689.jpg  \n",
              "9  Summer  2012.0  Casual  United Colors of Benetton Women Pink Top  57832.jpg  "
            ]
          },
          "execution_count": 6,
          "metadata": {},
          "output_type": "execute_result"
        }
      ],
      "source": [
        "df.head(10)"
      ]
    },
    {
      "cell_type": "markdown",
      "metadata": {
        "id": "R0SToGGJWpGx"
      },
      "source": [
        "## Preparing the ImageDataGenerator for training the model"
      ]
    },
    {
      "cell_type": "code",
      "execution_count": 7,
      "metadata": {},
      "outputs": [],
      "source": [
        "import tensorflow as tf"
      ]
    },
    {
      "cell_type": "code",
      "execution_count": 8,
      "metadata": {
        "colab": {
          "base_uri": "https://localhost:8080/"
        },
        "id": "Kw5aXhs8T5mi",
        "outputId": "789fbcad-8217-4e4d-e109-902e119e3807"
      },
      "outputs": [
        {
          "name": "stdout",
          "output_type": "stream",
          "text": [
            "Found 35536 validated image filenames belonging to 7 classes.\n"
          ]
        },
        {
          "name": "stderr",
          "output_type": "stream",
          "text": [
            "d:\\python3.11.5\\Lib\\site-packages\\keras\\src\\preprocessing\\image.py:1137: UserWarning: Found 5 invalid image filename(s) in x_col=\"image\". These filename(s) will be ignored.\n",
            "  warnings.warn(\n"
          ]
        },
        {
          "name": "stdout",
          "output_type": "stream",
          "text": [
            "Found 8883 validated image filenames belonging to 7 classes.\n"
          ]
        },
        {
          "name": "stderr",
          "output_type": "stream",
          "text": [
            "d:\\python3.11.5\\Lib\\site-packages\\keras\\src\\preprocessing\\image.py:1137: UserWarning: Found 5 invalid image filename(s) in x_col=\"image\". These filename(s) will be ignored.\n",
            "  warnings.warn(\n"
          ]
        }
      ],
      "source": [
        "\n",
        "# Import the ImageDataGenerator class\n",
        "from tensorflow.keras.preprocessing.image import ImageDataGenerator\n",
        "\n",
        "# Set the batch size for the image data generator\n",
        "batch_size = 256\n",
        "\n",
        "# Create an instance of ImageDataGenerator for data augmentation/preprocessing. Here it's configured for a validation split of 20%\n",
        "image_generator = ImageDataGenerator(validation_split=0.2)\n",
        "\n",
        "# Create a training data generator. This will read images in batches from the 'images' directory, using the 'image' column from df for filenames\n",
        "# and the 'masterCategory' column for labels. The target size for resizing images is set to (60,80), and the subset 'training' is selected.\n",
        "training_generator = image_generator.flow_from_dataframe(\n",
        "    dataframe=df,\n",
        "    directory=\"images\",\n",
        "    x_col=\"image\",\n",
        "    y_col=\"masterCategory\",\n",
        "    target_size=(60,80),\n",
        "    batch_size=batch_size,\n",
        "    subset=\"training\"\n",
        ")\n",
        "\n",
        "# Similar to the above, create a validation data generator. It also reads from the 'images' directory and df, but selects the 'validation' subset.\n",
        "validation_generator = image_generator.flow_from_dataframe(\n",
        "    dataframe=df,\n",
        "    directory=\"images\",\n",
        "    x_col=\"image\",\n",
        "    y_col=\"masterCategory\",\n",
        "    target_size=(60,80),\n",
        "    batch_size=batch_size,\n",
        "    subset=\"validation\"\n",
        ")\n",
        "\n",
        "# Store the number of classes (unique labels) present in the training data\n",
        "classes = len(training_generator.class_indices)"
      ]
    },
    {
      "cell_type": "code",
      "execution_count": 9,
      "metadata": {
        "colab": {
          "base_uri": "https://localhost:8080/"
        },
        "id": "VtfldwbM8QoK",
        "outputId": "326dec0e-5f3a-44ed-f457-b69c25955e91"
      },
      "outputs": [
        {
          "data": {
            "text/plain": [
              "7"
            ]
          },
          "execution_count": 9,
          "metadata": {},
          "output_type": "execute_result"
        }
      ],
      "source": [
        "classes"
      ]
    },
    {
      "cell_type": "markdown",
      "metadata": {
        "id": "UsIHT8DgWiwA"
      },
      "source": [
        "## Initializing the Model using Neural Network"
      ]
    },
    {
      "cell_type": "code",
      "execution_count": 10,
      "metadata": {
        "id": "VncMPVikT0pC"
      },
      "outputs": [],
      "source": [
        "from tensorflow.keras.models import Sequential\n",
        "from tensorflow.keras.layers import Conv2D, MaxPooling2D, Flatten, Dense\n",
        "\n"
      ]
    },
    {
      "cell_type": "code",
      "execution_count": 11,
      "metadata": {
        "id": "DVsvOAGDT2vK"
      },
      "outputs": [],
      "source": [
        "#Initializing our model\n",
        "classifier = Sequential()\n",
        "\n",
        "classifier.add(Conv2D(32,(3,3),input_shape = (60,80,3), activation = 'relu'))\n",
        "\n",
        "classifier.add(MaxPooling2D(pool_size=(3, 3)))\n",
        "\n",
        "classifier.add(Conv2D(32,(3,3), activation = 'relu'))\n",
        "classifier.add(MaxPooling2D(pool_size=(3, 3)))\n",
        "\n",
        "classifier.add(Flatten())\n",
        "\n",
        "classifier.add(Dense(units=32,activation = 'relu'))\n",
        "classifier.add(Dense(units=64,activation = 'relu'))\n",
        "classifier.add(Dense(units=128,activation = 'relu'))\n",
        "classifier.add(Dense(units=256,activation = 'relu'))\n",
        "classifier.add(Dense(units=512,activation = 'relu'))\n",
        "\n",
        "classifier.add(Dense(units=7,activation = 'softmax'))\n",
        "\n",
        "classifier.compile(optimizer='adam',\n",
        "              loss=\"categorical_crossentropy\",\n",
        "              metrics=['accuracy'])"
      ]
    },
    {
      "cell_type": "markdown",
      "metadata": {
        "id": "WkS7CthhWwAY"
      },
      "source": [
        "## Fitting Data in our Neural Network"
      ]
    },
    {
      "cell_type": "code",
      "execution_count": 12,
      "metadata": {},
      "outputs": [],
      "source": [
        "# ! pip install pillow"
      ]
    },
    {
      "cell_type": "code",
      "execution_count": 13,
      "metadata": {
        "colab": {
          "base_uri": "https://localhost:8080/"
        },
        "id": "Un0L3F5EUCca",
        "outputId": "2111fa34-bd2e-49bc-fa50-67d6bf44173b"
      },
      "outputs": [
        {
          "name": "stdout",
          "output_type": "stream",
          "text": [
            "Epoch 1/5\n",
            "139/139 [==============================] - 246s 2s/step - loss: 0.7441 - accuracy: 0.7979 - val_loss: 0.2682 - val_accuracy: 0.9156\n",
            "Epoch 2/5\n",
            "139/139 [==============================] - 28s 201ms/step - loss: 0.2320 - accuracy: 0.9254 - val_loss: 0.2587 - val_accuracy: 0.9196\n",
            "Epoch 3/5\n",
            "139/139 [==============================] - 28s 201ms/step - loss: 0.1846 - accuracy: 0.9412 - val_loss: 0.1553 - val_accuracy: 0.9532\n",
            "Epoch 4/5\n",
            "139/139 [==============================] - 28s 202ms/step - loss: 0.1522 - accuracy: 0.9514 - val_loss: 0.1738 - val_accuracy: 0.9470\n",
            "Epoch 5/5\n",
            "139/139 [==============================] - 28s 200ms/step - loss: 0.1392 - accuracy: 0.9558 - val_loss: 0.1454 - val_accuracy: 0.9552\n"
          ]
        }
      ],
      "source": [
        "import scipy\n",
        "from tensorflow import keras\n",
        "\n",
        "# Assuming you have already defined your model 'classifier'\n",
        "\n",
        "# Set the number of epochs for training\n",
        "epochs = 5\n",
        "\n",
        "# Use the 'fit' method to train the model on the training data and validate on the validation data\n",
        "history = classifier.fit(\n",
        "    x=training_generator,\n",
        "    steps_per_epoch=len(training_generator),  # Number of batches per epoch\n",
        "    epochs=epochs,\n",
        "    validation_data=validation_generator,\n",
        "    validation_steps=len(validation_generator),  # Number of batches for validation\n",
        "    verbose=1  # Set to 1 for progress updates during training\n",
        ")\n",
        "\n",
        "# After training, you can evaluate the model's performance on the test data (if available)\n",
        "# Replace 'test_data' and 'test_labels' with your actual test data and labels\n",
        "# Evaluate the model\n",
        "# test_loss, test_accuracy = classifier.evaluate(test_data, test_labels)\n",
        "# print(\"Test Loss:\", test_loss)\n",
        "# print(\"Test Accuracy:\", test_accuracy)\n",
        "\n"
      ]
    },
    {
      "cell_type": "code",
      "execution_count": 17,
      "metadata": {},
      "outputs": [
        {
          "name": "stdout",
          "output_type": "stream",
          "text": [
            "35/35 [==============================] - 3s 90ms/step - loss: 0.1454 - accuracy: 0.9552\n",
            "Validation Loss: 0.1453908085823059\n",
            "Validation Accuracy: 0.9551953077316284\n"
          ]
        }
      ],
      "source": [
        "\n",
        "# After training, you can evaluate the model's performance on the validation data\n",
        "# Use the 'evaluate' method to get the loss and accuracy\n",
        "validation_loss, validation_accuracy = classifier.evaluate(\n",
        "    x=validation_generator,\n",
        "    steps=len(validation_generator),  # Number of batches for validation\n",
        "    verbose=1  # Set to 1 for progress updates during evaluation\n",
        ")\n",
        "\n",
        "# Print the validation loss and accuracy\n",
        "print(\"Validation Loss:\", validation_loss)\n",
        "print(\"Validation Accuracy:\", validation_accuracy)"
      ]
    },
    {
      "cell_type": "markdown",
      "metadata": {
        "id": "2mGWhl-qW0EZ"
      },
      "source": [
        "## Saving the Model for further use"
      ]
    },
    {
      "cell_type": "code",
      "execution_count": 14,
      "metadata": {
        "id": "um7VPpnfUGH5"
      },
      "outputs": [
        {
          "name": "stderr",
          "output_type": "stream",
          "text": [
            "d:\\python3.11.5\\Lib\\site-packages\\keras\\src\\engine\\training.py:3000: UserWarning: You are saving your model as an HDF5 file via `model.save()`. This file format is considered legacy. We recommend using instead the native Keras format, e.g. `model.save('my_model.keras')`.\n",
            "  saving_api.save_model(\n"
          ]
        }
      ],
      "source": [
        "classifier.save(\"model.h5\")"
      ]
    },
    {
      "cell_type": "markdown",
      "metadata": {
        "id": "RcZNB-d_W3S5"
      },
      "source": [
        "## Testing on our data"
      ]
    },
    {
      "cell_type": "code",
      "execution_count": 23,
      "metadata": {
        "colab": {
          "base_uri": "https://localhost:8080/"
        },
        "id": "MIrNjV0dG2Z2",
        "outputId": "bcef8b85-6f08-4d93-9654-09321bdb7a94"
      },
      "outputs": [
        {
          "name": "stdout",
          "output_type": "stream",
          "text": [
            "Model: \"sequential\"\n",
            "_________________________________________________________________\n",
            " Layer (type)                Output Shape              Param #   \n",
            "=================================================================\n",
            " conv2d (Conv2D)             (None, 58, 78, 32)        896       \n",
            "                                                                 \n",
            " max_pooling2d (MaxPooling2  (None, 19, 26, 32)        0         \n",
            " D)                                                              \n",
            "                                                                 \n",
            " conv2d_1 (Conv2D)           (None, 17, 24, 32)        9248      \n",
            "                                                                 \n",
            " max_pooling2d_1 (MaxPoolin  (None, 5, 8, 32)          0         \n",
            " g2D)                                                            \n",
            "                                                                 \n",
            " flatten (Flatten)           (None, 1280)              0         \n",
            "                                                                 \n",
            " dense (Dense)               (None, 32)                40992     \n",
            "                                                                 \n",
            " dense_1 (Dense)             (None, 64)                2112      \n",
            "                                                                 \n",
            " dense_2 (Dense)             (None, 128)               8320      \n",
            "                                                                 \n",
            " dense_3 (Dense)             (None, 256)               33024     \n",
            "                                                                 \n",
            " dense_4 (Dense)             (None, 512)               131584    \n",
            "                                                                 \n",
            " dense_5 (Dense)             (None, 7)                 3591      \n",
            "                                                                 \n",
            "=================================================================\n",
            "Total params: 229767 (897.53 KB)\n",
            "Trainable params: 229767 (897.53 KB)\n",
            "Non-trainable params: 0 (0.00 Byte)\n",
            "_________________________________________________________________\n"
          ]
        }
      ],
      "source": [
        "\n",
        "import numpy as np\n",
        "from keras.preprocessing.image import load_img\n",
        "\n",
        "filename = \"images/15970.jpg\"\n",
        "\n",
        "from keras.models import load_model\n",
        "new_model = load_model('model.h5')\n",
        "new_model.summary()\n",
        "\n",
        "\n"
      ]
    },
    {
      "cell_type": "code",
      "execution_count": 24,
      "metadata": {},
      "outputs": [
        {
          "name": "stdout",
          "output_type": "stream",
          "text": [
            "1/1 [==============================] - 0s 74ms/step\n",
            "[[7.1621507e-01 2.6835841e-01 1.2383981e-03 7.2822087e-03 8.5659522e-06\n",
            "  6.8477220e-03 4.9668230e-05]]\n"
          ]
        }
      ],
      "source": [
        "import numpy as np\n",
        "from keras.preprocessing.image import load_img, img_to_array\n",
        "from keras.applications.imagenet_utils import preprocess_input\n",
        "\n",
        "# Load the image\n",
        "image = load_img(filename, target_size=(60, 80))  # Resize the image to match the model's input shape\n",
        "image = img_to_array(image)  # Convert to numpy array\n",
        "image = preprocess_input(image)  # Preprocess the image (scaling, etc.)\n",
        "\n",
        "# Make predictions using your model\n",
        "predictions = new_model.predict(np.expand_dims(image, axis=0))  # Predictions for a single image\n",
        "print(predictions)\n",
        "# The 'predictions' variable now contains the model's output probabilities for each class\n",
        "# You can interpret these probabilities to determine the predicted class\n"
      ]
    },
    {
      "cell_type": "code",
      "execution_count": 25,
      "metadata": {
        "colab": {
          "base_uri": "https://localhost:8080/"
        },
        "id": "jIpiNqcLHCBp",
        "outputId": "1878460a-25a3-4a4d-925b-181e621684b5"
      },
      "outputs": [
        {
          "name": "stdout",
          "output_type": "stream",
          "text": [
            "0\n"
          ]
        }
      ],
      "source": [
        "val = np.argmax(predictions) # Returns the index of the class with the highest probability\n",
        "print(val) # prints the predicted class label, which represents the category or class that the model predicts the input image belongs to"
      ]
    },
    {
      "cell_type": "code",
      "execution_count": 26,
      "metadata": {
        "colab": {
          "base_uri": "https://localhost:8080/"
        },
        "id": "uBMbGqfCO1Jr",
        "outputId": "3eaf221d-c1fb-47b0-c9d8-13f9a6ce0856"
      },
      "outputs": [
        {
          "name": "stdout",
          "output_type": "stream",
          "text": [
            "Accessories\n"
          ]
        }
      ],
      "source": [
        "my_dict = training_generator.class_indices\n",
        "key_list = list(my_dict.keys()) \n",
        "val_list = list(my_dict.values()) \n",
        "print(key_list[val])\n"
      ]
    },
    {
      "cell_type": "markdown",
      "metadata": {},
      "source": [
        "The model predicts the following probabilities for each class:\\\n",
        "Accessories: 71.62%\\\n",
        "Apparel: 26.84%\\\n",
        "Footwear: 0.12%\\\n",
        "Free Items: 0.73%\\\n",
        "Home: 0.01%\\\n",
        "Personal Care: 0.68%\\\n",
        "Sports: 0.00%"
      ]
    },
    {
      "cell_type": "markdown",
      "metadata": {},
      "source": [
        "The predicted class index is 0 (corresponding to \"Accessories\").\n",
        "Therefore, the model predicts that the input image most likely belongs to the \"Accessories\" class."
      ]
    },
    {
      "cell_type": "markdown",
      "metadata": {
        "id": "ZUq6C4FrW7R4"
      },
      "source": [
        "## Saving the Class IDs"
      ]
    },
    {
      "cell_type": "code",
      "execution_count": 27,
      "metadata": {
        "id": "Rz149SGeVzA5"
      },
      "outputs": [],
      "source": [
        "import pickle\n",
        "# save the model to disk\n",
        "filename1 = 'key_list'\n",
        "filename = 'val_list'\n",
        "pickle.dump(key_list, open(filename1, 'wb'))\n",
        "pickle.dump(val_list, open(filename, 'wb'))"
      ]
    },
    {
      "cell_type": "code",
      "execution_count": null,
      "metadata": {
        "id": "g0XT-m_JoVlw"
      },
      "outputs": [],
      "source": []
    }
  ],
  "metadata": {
    "accelerator": "GPU",
    "colab": {
      "collapsed_sections": [],
      "name": "Fashion Product Classifier.ipynb",
      "provenance": []
    },
    "kernelspec": {
      "display_name": "Python 3",
      "name": "python3"
    },
    "language_info": {
      "codemirror_mode": {
        "name": "ipython",
        "version": 3
      },
      "file_extension": ".py",
      "mimetype": "text/x-python",
      "name": "python",
      "nbconvert_exporter": "python",
      "pygments_lexer": "ipython3",
      "version": "3.11.5"
    }
  },
  "nbformat": 4,
  "nbformat_minor": 0
}
